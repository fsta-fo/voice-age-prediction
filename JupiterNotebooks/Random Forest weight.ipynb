{
 "cells": [
  {
   "cell_type": "code",
   "execution_count": null,
   "id": "d9aa21fa-1dab-41ed-9cf2-0b31239867de",
   "metadata": {},
   "outputs": [],
   "source": [
    "import pandas as pd\n",
    "import numpy as np\n",
    "import matplotlib.pyplot as plt\n",
    "import seaborn as sns\n",
    "from sklearn.preprocessing import LabelEncoder, StandardScaler\n",
    "from sklearn.ensemble import RandomForestClassifier\n",
    "from sklearn.metrics import accuracy_score, classification_report, confusion_matrix\n",
    "\n",
    "#SETTINGS\n",
    "pd.set_option('display.max_columns', None)\n",
    "plt.style.use('seaborn-v0_8-whitegrid')"
   ]
  },
  {
   "cell_type": "code",
   "execution_count": null,
   "id": "12733e9e-da79-4145-a075-c31ff405fd2f",
   "metadata": {},
   "outputs": [],
   "source": [
    "train_path = '\\dataset\\audio_features_metadata_train.tsv'\n",
    "test_path = '\\dataset\\audio_features_metadata_test.tsv'\n",
    "\n",
    "try:\n",
    "    df_train = pd.read_csv(train_path, sep='\\t')\n",
    "    df_test = pd.read_csv(test_path, sep='\\t')\n",
    "    print(f\"Found {len(df_train)} training rows\")\n",
    "    print(f\"Found {len(df_test)} test rows\")\n",
    "except FileNotFoundError as e:\n",
    "    print(f\"File not found: \\n{e}\")\n",
    "\n",
    "age_var = 'age' \n",
    "le = LabelEncoder()\n",
    "df_train['age_encoded'] = le.fit_transform(df_train[age_var])\n",
    "df_test['age_encoded'] = le.transform(df_test[age_var])\n",
    "\n",
    "print(\"\\nAge classes:\")\n",
    "for i, class_i in enumerate(le.classes_):\n",
    "    print(f\"  {class_i}: {i}\")\n",
    "\n",
    "drop_rows = ['client_id', 'path', 'age', 'gender']\n",
    "\n",
    "X_train = df_train.drop(columns=drop_rows)\n",
    "y_train = df_train['age_encoded']\n",
    "\n",
    "X_test = df_test.drop(columns=drop_rows)\n",
    "y_test = df_test['age_encoded']\n",
    "\n",
    "X_test = X_test[X_train.columns]\n",
    "\n",
    "print(f\"\\nData ready: {len(X_train.columns)}\")"
   ]
  },
  {
   "cell_type": "code",
   "execution_count": null,
   "id": "e140ad89-ec0f-4528-9e6a-379631d38966",
   "metadata": {},
   "outputs": [],
   "source": [
    "scaler = StandardScaler()\n",
    "\n",
    "X_train_scaled = scaler.fit_transform(X_train)\n",
    "\n",
    "X_test_scaled = scaler.transform(X_test)\n",
    "\n",
    "print(\"Scaling completed\")\n"
   ]
  },
  {
   "cell_type": "code",
   "execution_count": null,
   "id": "f05610e2-ceca-4071-a656-0f4da12f321d",
   "metadata": {},
   "outputs": [],
   "source": [
    "rf_model = RandomForestClassifier(n_estimators=100, random_state=42, n_jobs=-1, oob_score=True, class_weight='balanced')\n",
    "\n",
    "print(\"Starting training\")\n",
    "rf_model.fit(X_train_scaled, y_train)\n",
    "\n",
    "print(\"Model has been trained\")\n",
    "print(f\"Out-of-Bag (OOB) : {rf_model.oob_score_:.4f}\")"
   ]
  },
  {
   "cell_type": "code",
   "execution_count": null,
   "id": "0cec3205-ee94-4e75-bc6b-cedd51c8d00e",
   "metadata": {},
   "outputs": [],
   "source": [
    "y_pred = rf_model.predict(X_test_scaled)\n",
    "accuracy = accuracy_score(y_test, y_pred)\n",
    "print(f\"Cccuracy on test set: {accuracy:.4f} ({accuracy*100:.2f}%)\")\n",
    "\n",
    "print(\"\\nFull report:\")\n",
    "print(classification_report(y_test, y_pred, target_names=le.classes_))\n",
    "\n",
    "\n",
    "print(\"\\nConfusion matrix:\")\n",
    "cm = confusion_matrix(y_test, y_pred)\n",
    "plt.figure(figsize=(10, 8))\n",
    "sns.heatmap(cm, annot=True, fmt='d', cmap='Blues', xticklabels=le.classes_, yticklabels=le.classes_)\n",
    "plt.title('Confusion matrix')\n",
    "plt.ylabel('Real age class')\n",
    "plt.xlabel('Predicted age class')\n",
    "plt.show()"
   ]
  },
  {
   "cell_type": "code",
   "execution_count": null,
   "id": "ea7411c3-0f4d-4dba-8e68-750612b19c14",
   "metadata": {},
   "outputs": [],
   "source": [
    "importances = rf_model.feature_importances_\n",
    "\n",
    "feature_importance_df = pd.DataFrame({\n",
    "    'feature': X_train.columns,\n",
    "    'importance': importances\n",
    "}).sort_values('importance', ascending=False)\n",
    "\n",
    "print(\"Top 20 most important features for age group prediction:\")\n",
    "display(feature_importance_df.head(20))\n",
    "\n",
    "plt.figure(figsize=(12, 8))\n",
    "sns.barplot(x='importance', y='feature', data=feature_importance_df.head(20), palette='viridis')\n",
    "plt.title('Top 20 most important features for age group prediction')\n",
    "plt.xlabel('Importance')\n",
    "plt.ylabel('Feature')\n",
    "plt.tight_layout()\n",
    "plt.show()"
   ]
  }
 ],
 "metadata": {
  "kernelspec": {
   "display_name": "Python 3 (ipykernel)",
   "language": "python",
   "name": "python3"
  },
  "language_info": {
   "codemirror_mode": {
    "name": "ipython",
    "version": 3
   },
   "file_extension": ".py",
   "mimetype": "text/x-python",
   "name": "python",
   "nbconvert_exporter": "python",
   "pygments_lexer": "ipython3",
   "version": "3.10.8"
  }
 },
 "nbformat": 4,
 "nbformat_minor": 5
}
