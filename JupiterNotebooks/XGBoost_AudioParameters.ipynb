{
 "cells": [
  {
   "cell_type": "code",
   "execution_count": null,
   "id": "ec790e75-c026-42dc-ad57-a366c8e4d588",
   "metadata": {},
   "outputs": [],
   "source": [
    "import pandas as pd\n",
    "import numpy as np\n",
    "import matplotlib.pyplot as plt\n",
    "import seaborn as sns\n",
    "import xgboost as xgb\n",
    "from imblearn.over_sampling import SMOTE\n",
    "from joblib import dump, load\n",
    "import os\n",
    "from sklearn.preprocessing import LabelEncoder, StandardScaler\n",
    "from sklearn.metrics import accuracy_score, classification_report, confusion_matrix\n",
    "\n",
    "pd.set_option('display.max_columns', None)\n",
    "plt.style.use('seaborn-v0_8-whitegrid')"
   ]
  },
  {
   "cell_type": "code",
   "execution_count": null,
   "id": "dbe4c56e-97f6-4c94-98f3-98afebae6532",
   "metadata": {},
   "outputs": [],
   "source": [
    "TRAIN_TSV = 'dataset/train_21.tsv'\n",
    "TEST_TSV = 'dataset/test_21.tsv'\n",
    "MODEL_FOLDER = 'dataset/models/xgboostAudioParameters'"
   ]
  },
  {
   "cell_type": "code",
   "execution_count": null,
   "id": "83c74c13-53df-4fd0-9459-afe7b81015ea",
   "metadata": {},
   "outputs": [],
   "source": [
    "df_train = pd.read_csv(TRAIN_TSV, sep='\\t')\n",
    "df_test = pd.read_csv(TEST_TSV, sep='\\t')\n",
    "\n",
    "TOP_FEATURES = [\n",
    "    'f0_median', 'f0_mean', 'f0_min', 'f0_max', 'jitter_local', \n",
    "    'f0_range', 'f0_std', 'hnr', 'shimmer_local', 'formant_1', \n",
    "    'formant_2', 'formant_4', 'spectral_contrast_mean', 'mfcc_1_mean',\n",
    "    'mfcc_2_mean', 'mfcc_3_mean', 'mfcc_4_mean', 'mfcc_5_mean', \n",
    "    'mfcc_8_mean', 'mfcc_13_mean', 'spectral_centroid_mean'\n",
    "]\n",
    "\n",
    "younger = ['teens', 'twenties']\n",
    "df_train['age'] = df_train['age'].replace(younger, 'twentiesAndUnder')\n",
    "df_test['age'] = df_test['age'].replace(younger, 'twentiesAndUnder')\n",
    "\n",
    "older = ['sixties', 'seventies', 'eighties', 'nineties']\n",
    "df_train['age'] = df_train['age'].replace(older, '60plus')\n",
    "df_test['age'] = df_test['age'].replace(older, '60plus')\n",
    "\n",
    "le = LabelEncoder()\n",
    "df_train['age_encoded'] = le.fit_transform(df_train['age'])\n",
    "df_test['age_encoded'] = le.transform(df_test['age'])\n",
    "y_train = df_train['age_encoded']\n",
    "y_test = df_test['age_encoded']\n",
    "X_train = df_train[TOP_FEATURES]\n",
    "X_test = df_test[TOP_FEATURES]\n",
    "\n",
    "scaler = StandardScaler()\n",
    "X_train_scaled = scaler.fit_transform(X_train)\n",
    "X_test_scaled = scaler.transform(X_test)\n",
    "\n",
    "print(\"\\nUsing SMOTE: \")\n",
    "smote = SMOTE(random_state=42)\n",
    "X_train_resampled, y_train_resampled = smote.fit_resample(X_train_scaled, y_train)\n",
    "\n",
    "print(f\"Final training set after SMOTE:: {X_train_resampled.shape}\")"
   ]
  },
  {
   "cell_type": "code",
   "execution_count": null,
   "id": "8ce3e2e9-9186-415f-a7fc-a82a4fe6892b",
   "metadata": {},
   "outputs": [],
   "source": [
    "xgb_model = xgb.XGBClassifier(\n",
    "    objective='multi:softprob',\n",
    "    eval_metric='mlogloss',\n",
    "    n_estimators=300, \n",
    "    learning_rate=0.1,\n",
    "    max_depth=7,\n",
    "    use_label_encoder=False,\n",
    "    random_state=42,\n",
    "    n_jobs=-1\n",
    ")\n",
    "\n",
    "print(\"\\nStarting model training: \")\n",
    "xgb_model.fit(X_train_resampled, y_train_resampled)\n",
    "\n",
    "print(\"Model has been trained\")"
   ]
  },
  {
   "cell_type": "code",
   "execution_count": null,
   "id": "6363e789-c83f-4a28-874e-8715647061fe",
   "metadata": {},
   "outputs": [],
   "source": [
    "y_pred = xgb_model.predict(X_test_scaled)\n",
    "accuracy = accuracy_score(y_test, y_pred)\n",
    "print(f\"\\nAccuracy repot: \")\n",
    "print(f\"Accuracy on the test set: {accuracy:.4f} ({accuracy*100:.2f}%)\")\n",
    "print(\"\\nDetailed class report:\")\n",
    "print(classification_report(y_test, y_pred, target_names=le.classes_))\n",
    "\n",
    "print(\"\\nConfusion matrix\")\n",
    "cm = confusion_matrix(y_test, y_pred)\n",
    "plt.figure(figsize=(8, 6))\n",
    "sns.heatmap(cm, annot=True, fmt='d', cmap='YlOrRd', xticklabels=le.classes_, yticklabels=le.classes_)\n",
    "plt.title('Confusion matrix')\n",
    "plt.ylabel('Actual class')\n",
    "plt.xlabel('Predicted class')\n",
    "plt.show()"
   ]
  },
  {
   "cell_type": "code",
   "execution_count": null,
   "id": "2be0eb77-249f-44aa-91e7-ac6cfe6f1925",
   "metadata": {},
   "outputs": [],
   "source": [
    "os.makedirs(MODEL_FOLDER, exist_ok=True)\n",
    "\n",
    "MODEL_PATH = os.path.join(MODEL_FOLDER, 'xgboost_model_features.joblib')\n",
    "SCALER_PATH = os.path.join(MODEL_FOLDER, 'xgboost_scaler_features.joblib')\n",
    "ENCODER_PATH = os.path.join(MODEL_FOLDER, 'xboost_encoder_features.joblib')\n",
    "FEATURES_PATH = os.path.join(MODEL_FOLDER, 'xgboost_features_list.json')\n",
    "\n",
    "\n",
    "print(\"\\nSaving model to disk\")\n",
    "dump(xgb_model, MODEL_PATH)\n",
    "dump(scaler, SCALER_PATH)\n",
    "dump(le, ENCODER_PATH)\n",
    "import json\n",
    "with open(FEATURES_PATH, 'w') as f:\n",
    "    json.dump(TOP_FEATURES, f)\n",
    "\n",
    "\n",
    "print(f\"\\nModel saved in: {MODEL_PATH}\")\n",
    "print(f\"Scaler saved in: {SCALER_PATH}\")\n",
    "print(f\"LabelEncoder saved in: {ENCODER_PATH}\")\n",
    "print(f\"Features list saved in: {FEATURES_PATH}\")"
   ]
  }
 ],
 "metadata": {
  "kernelspec": {
   "display_name": "Python 3 (ipykernel)",
   "language": "python",
   "name": "python3"
  },
  "language_info": {
   "codemirror_mode": {
    "name": "ipython",
    "version": 3
   },
   "file_extension": ".py",
   "mimetype": "text/x-python",
   "name": "python",
   "nbconvert_exporter": "python",
   "pygments_lexer": "ipython3",
   "version": "3.10.8"
  }
 },
 "nbformat": 4,
 "nbformat_minor": 5
}
