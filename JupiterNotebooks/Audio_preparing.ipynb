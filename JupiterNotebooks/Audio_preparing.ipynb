{
 "cells": [
  {
   "cell_type": "code",
   "execution_count": null,
   "id": "a52ae30d-8406-4d82-9726-a5ff506f4eee",
   "metadata": {},
   "outputs": [],
   "source": [
    "import os\n",
    "import librosa\n",
    "import librosa.display\n",
    "import numpy as np\n",
    "import matplotlib.pyplot as plt\n",
    "import soundfile as sf\n",
    "from scipy.signal import butter, filtfilt\n",
    "import IPython.display as ipd "
   ]
  },
  {
   "cell_type": "code",
   "execution_count": null,
   "id": "e4046515-7bba-426e-930a-15b079be31ef",
   "metadata": {},
   "outputs": [],
   "source": [
    "INPUT_PATH = 'voices'\n",
    "FILE_NAME = 'ID_10051_voice56.wav'\n",
    "wav_path = os.path.join(INPUT_PATH, FILE_NAME)\n",
    "OUTPUT_FOLDER = 'preprocesesd_out'"
   ]
  },
  {
   "cell_type": "code",
   "execution_count": null,
   "id": "32b48ddd-8bf6-4d75-b1da-8b4c84f2a3cc",
   "metadata": {},
   "outputs": [],
   "source": [
    "TARGET_FREQ = 16000\n",
    "VAD_DB = 25\n",
    "USE_FILTER = True\n",
    "FILTER_CUTOFF_HZ = 80.0\n",
    "FILTER_ROW = 5"
   ]
  },
  {
   "cell_type": "code",
   "execution_count": null,
   "id": "ab487650-ddb4-43c5-81b6-61587a407f30",
   "metadata": {},
   "outputs": [],
   "source": [
    "plt.style.use('seaborn-v0_8-whitegrid')\n",
    "print(f\"Filename for preprocessing: {wav_path}\")"
   ]
  },
  {
   "cell_type": "code",
   "execution_count": null,
   "id": "77eec931-ab52-4685-b742-74ff6d3b69a0",
   "metadata": {},
   "outputs": [],
   "source": [
    "y_orig, sr_orig = librosa.load(wav_path, sr=None)\n",
    "\n",
    "print(f\"riginal sampling frequency: {sr_orig} Hz\")\n",
    "print(f\"Number of samples: {len(y_orig)}\")\n",
    "\n",
    "plt.figure(figsize=(14, 5))\n",
    "librosa.display.waveshow(y_orig, sr=sr_orig, alpha=0.8)\n",
    "plt.title(f'Original audio signal ({FILE_NAME})')\n",
    "plt.xlabel('Time (s)')\n",
    "plt.ylabel('Amplitude')\n",
    "plt.show()\n",
    "\n",
    "print(\"Original audio listening:\")\n",
    "ipd.Audio(data=y_orig, rate=sr_orig)"
   ]
  },
  {
   "cell_type": "code",
   "execution_count": null,
   "id": "a34f7c95-db26-4b8d-b3c0-9e873c116d87",
   "metadata": {},
   "outputs": [],
   "source": [
    "if sr_orig != TARGET_FREQ:\n",
    "    print(f\"Performing resampling with {sr_orig} Hz na {TARGET_FREQ} Hz...\")\n",
    "    y_resampled = librosa.resample(y_orig, orig_sr=sr_orig, target_sr=TARGET_FREQ)\n",
    "else:\n",
    "    print(\"The signal is already at the target frequency\")\n",
    "    y_resampled = y_orig\n",
    "\n",
    "sr_new = TARGET_FREQ\n",
    "\n",
    "plt.figure(figsize=(14, 5))\n",
    "librosa.display.waveshow(y_resampled, sr=sr_new, alpha=0.8, color='purple')\n",
    "plt.title(f'Signal resamplet to: {sr_new} Hz')\n",
    "plt.xlabel('Time (s)')\n",
    "plt.ylabel('Amplitude')\n",
    "plt.show()\n",
    "\n",
    "print(\"Resampled audio listening:\")\n",
    "ipd.Audio(data=y_resampled, rate=sr_new)"
   ]
  },
  {
   "cell_type": "code",
   "execution_count": null,
   "id": "93d3db8e-09f1-4daa-a038-381596ef3f2b",
   "metadata": {},
   "outputs": [],
   "source": [
    "y_normalized = librosa.util.normalize(y_resampled)\n",
    "\n",
    "print(f\"Original amplitude range: Min={np.min(y_resampled):.2f}, Max={np.max(y_resampled):.2f}\")\n",
    "print(f\"Normalized amplitude range: Min={np.min(y_normalized):.2f}, Max={np.max(y_normalized):.2f}\")\n",
    "\n",
    "fig, ax = plt.subplots(nrows=2, sharex=True, sharey=True, figsize=(14, 8))\n",
    "\n",
    "librosa.display.waveshow(y_resampled, sr=sr_new, ax=ax[0], color='purple', alpha=0.7)\n",
    "ax[0].set_title('Before normalization')\n",
    "ax[0].set_xlabel('')\n",
    "\n",
    "librosa.display.waveshow(y_normalized, sr=sr_new, ax=ax[1], color='green', alpha=0.7)\n",
    "ax[1].set_title('After normalization')\n",
    "\n",
    "plt.tight_layout()\n",
    "plt.show()\n",
    "\n",
    "print(\"Normalized audio listening:\")\n",
    "ipd.Audio(data=y_normalized, rate=sr_new)"
   ]
  },
  {
   "cell_type": "code",
   "execution_count": null,
   "id": "901d3791-d5fa-46a7-b8d5-dc5c8cf2fce8",
   "metadata": {},
   "outputs": [],
   "source": [
    "y_trimmed, index = librosa.effects.trim(y_normalized, top_db=VAD_DB)\n",
    "\n",
    "original_time = librosa.get_duration(y=y_normalized, sr=sr_new)\n",
    "new_time = librosa.get_duration(y=y_trimmed, sr=sr_new)\n",
    "\n",
    "print(f\"Audio duration before silence removal: {original_time:.2f} s\")\n",
    "print(f\"Audio duration after silence removal: {new_time:.2f} s\")\n",
    "print(f\"Trimmed {original_time - new_time:.2f} s tišine.\")\n",
    "\n",
    "plt.figure(figsize=(14, 5))\n",
    "librosa.display.waveshow(y_normalized, sr=sr_new, alpha=0.5, color='gray', label='Original (normalized)')\n",
    "librosa.display.waveshow(y_trimmed, sr=sr_new, alpha=0.9, color='blue', label='After removing the silence')\n",
    "plt.title(f'Removing silence with a threshold of {VAD_DB} dB')\n",
    "plt.legend()\n",
    "plt.show()\n",
    "\n",
    "print(\"Audio vith silence removed:\")\n",
    "ipd.Audio(data=y_trimmed, rate=sr_new)"
   ]
  },
  {
   "cell_type": "code",
   "execution_count": null,
   "id": "03b6e808-8474-4d9d-af94-976304242140",
   "metadata": {},
   "outputs": [],
   "source": [
    "y_final = y_trimmed\n",
    "\n",
    "if USE_FILTER and len(y_trimmed) > 0:\n",
    "    print(f\"hHgh-pass filter set to: {FILTER_CUTOFF_HZ} Hz...\")\n",
    "    \n",
    "    b, a = butter(FILTER_ROW, FILTER_CUTOFF_HZ / (0.5 * sr_new), btype='high', analog=False)\n",
    "    y_final = filtfilt(b, a, y_trimmed)\n",
    "\n",
    "    D_before = librosa.amplitude_to_db(np.abs(librosa.stft(y_trimmed)), ref=np.max)\n",
    "    D_after = librosa.amplitude_to_db(np.abs(librosa.stft(y_final)), ref=np.max)\n",
    "    fig, ax = plt.subplots(nrows=2, sharex=True, sharey=True, figsize=(14, 8))\n",
    "    img = librosa.display.specshow(D_before, sr=sr_new, x_axis='time', y_axis='hz', ax=ax[0])\n",
    "    \n",
    "    ax[0].set_title('Spectrogram before using filter')\n",
    "    ax[0].set_ylim(0, 1000)\n",
    "    fig.colorbar(img, ax=ax[0], format='%+2.0f dB')\n",
    "\n",
    "    img = librosa.display.specshow(D_after, sr=sr_new, x_axis='time', y_axis='hz', ax=ax[1])\n",
    "    ax[1].set_title(f'Spectrogram after using filter, cutoff on {FILTER_CUTOFF_HZ} Hz)')\n",
    "    ax[1].set_ylim(0, 1000)\n",
    "    fig.colorbar(img, ax=ax[1], format='%+2.0f dB')\n",
    "    \n",
    "    plt.tight_layout()\n",
    "    plt.show()\n",
    "\n",
    "    print(\"Filtered audio listening:\")\n",
    "    ipd.Audio(data=y_final, rate=sr_new)\n",
    "else:\n",
    "    print(\"Filtering is turned off\")"
   ]
  },
  {
   "cell_type": "code",
   "execution_count": null,
   "id": "0bcadc8e-d1a8-4337-8717-9bb916b345f4",
   "metadata": {},
   "outputs": [],
   "source": [
    "output_filename = f\"preprocessed_{FILE_NAME}\"\n",
    "out_path = os.path.join(OUTPUT_FOLDER, output_filename)\n",
    "\n",
    "sf.write(out_path, y_final, sr_new)\n",
    "\n",
    "print(f\"File saved in:\")\n",
    "print(out_path)"
   ]
  },
  {
   "cell_type": "code",
   "execution_count": null,
   "id": "02094e7e-18af-45ea-8902-4767c4d82540",
   "metadata": {},
   "outputs": [],
   "source": []
  }
 ],
 "metadata": {
  "kernelspec": {
   "display_name": "Python 3 (ipykernel)",
   "language": "python",
   "name": "python3"
  },
  "language_info": {
   "codemirror_mode": {
    "name": "ipython",
    "version": 3
   },
   "file_extension": ".py",
   "mimetype": "text/x-python",
   "name": "python",
   "nbconvert_exporter": "python",
   "pygments_lexer": "ipython3",
   "version": "3.10.8"
  }
 },
 "nbformat": 4,
 "nbformat_minor": 5
}
