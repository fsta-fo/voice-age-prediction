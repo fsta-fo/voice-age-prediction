{
 "cells": [
  {
   "cell_type": "code",
   "execution_count": null,
   "id": "14c94561-fa1f-4505-8beb-8bac8768827e",
   "metadata": {},
   "outputs": [],
   "source": [
    "import pandas as pd\n",
    "import numpy as np\n",
    "import matplotlib.pyplot as plt\n",
    "import seaborn as sns\n",
    "import xgboost as xgb\n",
    "from imblearn.over_sampling import SMOTE\n",
    "from joblib import dump\n",
    "import os\n",
    "from sklearn.preprocessing import LabelEncoder, StandardScaler\n",
    "from sklearn.metrics import accuracy_score, classification_report, confusion_matrix\n",
    "pd.set_option('display.max_columns', None)\n",
    "plt.style.use('seaborn-v0_8-whitegrid')"
   ]
  },
  {
   "cell_type": "code",
   "execution_count": null,
   "id": "72e3495c-8ae4-4542-8d57-87ca744d6410",
   "metadata": {},
   "outputs": [],
   "source": [
    "VECTOR_PATH = r'dataset\\x_vectors.pkl'\n",
    "TRAIN_TSV = r'dataset\\train_21.tsv'\n",
    "TEST_TSV = r'dataset\\test_21.tsv'\n",
    "MODEL_FOLDER = r'dataset\\models\\xgboostVector'"
   ]
  },
  {
   "cell_type": "code",
   "execution_count": null,
   "id": "baf10d67-f09a-476a-ab44-20094b353a95",
   "metadata": {},
   "outputs": [],
   "source": [
    "df_xvectors = pd.read_pickle(VECTOR_PATH)\n",
    "df_train_info = pd.read_csv(TRAIN_TSV, sep='\\t')\n",
    "df_test_info = pd.read_csv(TEST_TSV, sep='\\t')\n",
    "\n",
    "train_paths = set(df_train_info['path'])\n",
    "test_paths = set(df_test_info['path'])\n",
    "df_train = df_xvectors[df_xvectors['path'].isin(train_paths)].copy()\n",
    "df_test = df_xvectors[df_xvectors['path'].isin(test_paths)].copy()\n",
    "\n",
    "print(f\"Training set: {len(df_train)}\")\n",
    "print(f\"Test set: {len(df_test)}\")\n",
    "\n",
    "def class_reduce(df):\n",
    "    younger = ['teens', 'twenties']\n",
    "    df['age'] = df['age'].replace(younger, 'twentiesAndUnder')\n",
    "    \n",
    "    older = ['sixties', 'seventies', 'eighties', 'nineties']\n",
    "    df['age'] = df['age'].replace(older, '60plus')\n",
    "    return df\n",
    "\n",
    "df_train = class_reduce(df_train)\n",
    "df_test = class_reduce(df_test)\n",
    "\n",
    "le = LabelEncoder()\n",
    "df_train['age_encoded'] = le.fit_transform(df_train['age'])\n",
    "df_test['age_encoded'] = le.transform(df_test['age'])\n",
    "\n",
    "y_train = df_train['age_encoded']\n",
    "y_test = df_test['age_encoded']\n",
    "\n",
    "X_train = pd.DataFrame(df_train['x_vector'].tolist())\n",
    "X_test = pd.DataFrame(df_test['x_vector'].tolist())\n",
    "\n",
    "scaler = StandardScaler()\n",
    "X_train_scaled = scaler.fit_transform(X_train)\n",
    "X_test_scaled = scaler.transform(X_test)\n",
    "\n",
    "print(\"\\nUsing SMOTE\")\n",
    "smote = SMOTE(random_state=42)\n",
    "X_train_resampled, y_train_resampled = smote.fit_resample(X_train_scaled, y_train)\n",
    "\n",
    "print(f\"Final training set after SMOTE: {X_train_resampled.shape}\")"
   ]
  },
  {
   "cell_type": "code",
   "execution_count": null,
   "id": "6a3ae97b-a1e3-45f3-89ed-371a52e8c72e",
   "metadata": {},
   "outputs": [],
   "source": [
    "xgb_model = xgb.XGBClassifier(\n",
    "    objective='multi:softprob',\n",
    "    eval_metric='mlogloss',\n",
    "    n_estimators=300,\n",
    "    learning_rate=0.1,\n",
    "    max_depth=7,\n",
    "    use_label_encoder=False,\n",
    "    random_state=42,\n",
    "    n_jobs=-1\n",
    ")\n",
    "\n",
    "print(\"\\nStarting training process:\")\n",
    "xgb_model.fit(X_train_resampled, y_train_resampled)\n",
    "print(\"Model has been trained successfully\")"
   ]
  },
  {
   "cell_type": "code",
   "execution_count": null,
   "id": "2aec999a-afc5-45f4-a37b-8bfb39f6eba4",
   "metadata": {},
   "outputs": [],
   "source": [
    "y_pred = xgb_model.predict(X_test_scaled)\n",
    "accuracy = accuracy_score(y_test, y_pred)\n",
    "\n",
    "print(f\"\\nAccuracy repot: \")\n",
    "print(f\"Accuracy on the test set: {accuracy:.4f} ({accuracy*100:.2f}%)\")\n",
    "print(\"\\nDetailed class report:\")\n",
    "print(classification_report(y_test, y_pred, target_names=le.classes_, zero_division=0))\n",
    "\n",
    "cm = confusion_matrix(y_test, y_pred)\n",
    "plt.figure(figsize=(8, 6))\n",
    "sns.heatmap(cm, annot=True, fmt='d', cmap='YlGnBu', xticklabels=le.classes_, yticklabels=le.classes_)\n",
    "plt.title('Confusion matrix')\n",
    "plt.ylabel('Actual class')\n",
    "plt.xlabel('Predicted class')\n",
    "plt.show()"
   ]
  },
  {
   "cell_type": "code",
   "execution_count": null,
   "id": "dd0f21ba-a7de-497a-92a2-c1b2ef052768",
   "metadata": {},
   "outputs": [],
   "source": [
    "os.makedirs(MODEL_FOLDER, exist_ok=True)\n",
    "\n",
    "MODEL_PATH = os.path.join(MODEL_FOLDER, 'final_xgboost_xvector_model.joblib')\n",
    "SCALER_PATH = os.path.join(MODEL_FOLDER, 'final_xvector_scaler.joblib')\n",
    "ENCODER_PATH = os.path.join(MODEL_FOLDER, 'final_age_encoder_5_classes.joblib')\n",
    "\n",
    "print(\"\\nSaving model to disk\")\n",
    "dump(xgb_model, MODEL_PATH)\n",
    "dump(scaler, SCALER_PATH)\n",
    "dump(le, ENCODER_PATH)\n",
    "\n",
    "print(f\"Model saved in: {MODEL_PATH}\")\n",
    "print(f\"Scaler saved in: {SCALER_PATH}\")\n",
    "print(f\"LabelEncoder saved in: {ENCODER_PATH}\")"
   ]
  }
 ],
 "metadata": {
  "kernelspec": {
   "display_name": "Python 3 (ipykernel)",
   "language": "python",
   "name": "python3"
  },
  "language_info": {
   "codemirror_mode": {
    "name": "ipython",
    "version": 3
   },
   "file_extension": ".py",
   "mimetype": "text/x-python",
   "name": "python",
   "nbconvert_exporter": "python",
   "pygments_lexer": "ipython3",
   "version": "3.10.8"
  }
 },
 "nbformat": 4,
 "nbformat_minor": 5
}
